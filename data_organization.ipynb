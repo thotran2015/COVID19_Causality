{
  "nbformat": 4,
  "nbformat_minor": 0,
  "metadata": {
    "colab": {
      "name": "data-organization",
      "provenance": [],
      "collapsed_sections": [],
      "authorship_tag": "ABX9TyOih4O73wk3csqdpGQs8t40"
    },
    "kernelspec": {
      "name": "python3",
      "display_name": "Python 3"
    }
  },
  "cells": [
    {
      "cell_type": "code",
      "metadata": {
        "id": "jiGll224n4B1",
        "colab_type": "code",
        "colab": {}
      },
      "source": [
        "%matplotlib inline\n",
        "# !pip install -U plotly\n",
        "# import plotly.express as px\n",
        "from urllib.request import urlopen\n",
        "\n",
        "import pandas as pd\n",
        "import numpy as np\n",
        "import matplotlib as plt\n",
        "import seaborn as sns\n",
        "from bs4 import BeautifulSoup\n",
        "import requests\n",
        "import pandas\n",
        "import time\n",
        "import io\n",
        "import json\n",
        "\n",
        "#You will need to mount the drive to use the relevant datasets in the shared 'Data' folder\n",
        "from google.colab import drive\n",
        "drive.mount('/content/drive')"
      ],
      "execution_count": 0,
      "outputs": []
    },
    {
      "cell_type": "code",
      "metadata": {
        "id": "NUXMR_ccqoer",
        "colab_type": "code",
        "colab": {}
      },
      "source": [
        "NYT_LINK = 'https://raw.githubusercontent.com/nytimes/covid-19-data/master/us-counties.csv'\n",
        "CENSUS_LINK = 'https://www2.census.gov/programs-surveys/popest/datasets/2010-2019/counties/totals/co-est2019-alldata.csv'\n",
        "CENSUS_ENCODING = 'latin1'\n",
        "\n",
        "nyt_cases = pd.read_csv(NYT_LINK) \n",
        "census_data = pd.read_csv(CENSUS_LINK, encoding=CENSUS_ENCODING)\n",
        "pop_data = census_data[['STATE', 'COUNTY', 'STNAME', 'CTYNAME','POPESTIMATE2019']]\n",
        "\n",
        "pop_data[\"fips\"] = pop_data['STATE']*1000 + pop_data['COUNTY'] \n",
        "case_pop = pd.merge(nyt_cases, pop_data[['POPESTIMATE2019', 'fips']], on = 'fips')\n",
        "case_pop = case_pop.rename(columns = {'POPESTIMATE2019':'population'})\n",
        "\n",
        "all_cases_time = case_pop.set_index(pd.to_datetime(case_pop.date))\n",
        "del all_cases_time['date']\n",
        "\n",
        "all_cases_time['population_adjusted_cases'] = all_cases_time['cases']/all_cases_time['population']\n",
        "all_cases_time['fips'] = all_cases_time['fips'].astype(float).astype(int)\n",
        "all_cases_time['fips'] = all_cases_time.fips.map(\"{:05}\".format)\n",
        "\n",
        "all_cases_time"
      ],
      "execution_count": 0,
      "outputs": []
    },
    {
      "cell_type": "code",
      "metadata": {
        "id": "0xFUJz-Jv2Aq",
        "colab_type": "code",
        "colab": {}
      },
      "source": [
        "# Helper function to get Y value given start_date and end_date\n",
        "def get_difference_df(df, start_date, end_date):\n",
        "  beginning_cases = all_cases_time[start_date]\n",
        "  end_cases = all_cases_time[end_date]\n",
        "\n",
        "  fips = list(set(beginning_cases.fips) & set(end_cases.fips)) #only want the cases recorded on both days\n",
        "  beginning_cases = beginning_cases[beginning_cases.fips.isin(fips)]\n",
        "  end_cases = end_cases[end_cases.fips.isin(fips)]\n",
        "  end_cases[\"end_cases\"] = end_cases.cases\n",
        "  beginning_cases[\"beginning_cases\"] = beginning_cases.cases\n",
        "\n",
        "  case_difference = beginning_cases.reset_index()\n",
        "  del case_difference['cases']\n",
        "  del case_difference['date']\n",
        "\n",
        "  case_difference['end_cases']= end_cases.reset_index().cases\n",
        "  case_difference['end_deaths'] = end_cases.reset_index().deaths\n",
        "  case_difference['case_diff'] = case_difference['end_cases']-case_difference['beginning_cases']\n",
        "  case_difference['perc_increase'] = case_difference['case_diff']/case_difference['beginning_cases']*100\n",
        "  case_difference['adj_increase'] = case_difference['case_diff']/case_difference['population']\n",
        "\n",
        "  return case_difference"
      ],
      "execution_count": 0,
      "outputs": []
    },
    {
      "cell_type": "code",
      "metadata": {
        "id": "OV2bHlGgyDzb",
        "colab_type": "code",
        "colab": {}
      },
      "source": [
        "START_DATE = '2020-04-08'\n",
        "END_DATE = '2020-04-15'\n",
        "case_diff_1 = get_difference_df(all_cases_time, START_DATE, END_DATE)\n",
        "\n",
        "START_DATE = '2020-04-15'\n",
        "END_DATE = '2020-04-22'\n",
        "case_diff_2 = get_difference_df(all_cases_time, START_DATE, END_DATE)\n",
        "\n",
        "START_DATE = '2020-04-22'\n",
        "END_DATE = '2020-04-29'\n",
        "case_diff_3 = get_difference_df(all_cases_time, START_DATE, END_DATE)"
      ],
      "execution_count": 0,
      "outputs": []
    },
    {
      "cell_type": "code",
      "metadata": {
        "id": "CmnuwOXmzqW2",
        "colab_type": "code",
        "colab": {}
      },
      "source": [
        "case_diff = case_diff_1[['county', 'state', 'fips', 'population']]\n",
        "case_diff.head()"
      ],
      "execution_count": 0,
      "outputs": []
    },
    {
      "cell_type": "code",
      "metadata": {
        "id": "N3kn4WQw0UOV",
        "colab_type": "code",
        "colab": {}
      },
      "source": [
        "case_diff['Y1_case_diff'] = float('nan')\n",
        "case_diff['Y1_perc_increase'] = float('nan')\n",
        "case_diff['Y1_adj_increase'] = float('nan')\n",
        "\n",
        "for idx, row in case_diff.iterrows():\n",
        "  if len(case_diff_1.loc[case_diff_1['fips'] == row['fips']]['case_diff'].values) > 0:\n",
        "    case_diff.loc[case_diff['fips']==row['fips'], 'Y1_case_diff'] = case_diff_1.loc[case_diff_1['fips'] == row['fips']]['case_diff'].values\n",
        "    case_diff.loc[case_diff['fips']==row['fips'], 'Y1_perc_increase'] = case_diff_1.loc[case_diff_1['fips'] == row['fips']]['perc_increase'].values\n",
        "    case_diff.loc[case_diff['fips']==row['fips'], 'Y1_adj_increase'] = case_diff_1.loc[case_diff_1['fips'] == row['fips']]['adj_increase'].values\n",
        "\n",
        "case_diff.head()"
      ],
      "execution_count": 0,
      "outputs": []
    },
    {
      "cell_type": "code",
      "metadata": {
        "id": "-Ifzpvr71mT0",
        "colab_type": "code",
        "colab": {}
      },
      "source": [
        "case_diff['Y2_case_diff'] = float('nan')\n",
        "case_diff['Y2_perc_increase'] = float('nan')\n",
        "case_diff['Y2_adj_increase'] = float('nan')\n",
        "\n",
        "for idx, row in case_diff.iterrows():\n",
        "  # print(case_diff_2.loc[case_diff_2['fips'] == row['fips']]['case_diff'].values)\n",
        "  if len(case_diff_2.loc[case_diff_2['fips'] == row['fips']]['case_diff'].values) > 0:\n",
        "    case_diff.loc[case_diff['fips']==row['fips'], 'Y2_case_diff'] = case_diff_2.loc[case_diff_2['fips'] == row['fips']]['case_diff'].values\n",
        "    case_diff.loc[case_diff['fips']==row['fips'], 'Y2_perc_increase'] = case_diff_2.loc[case_diff_2['fips'] == row['fips']]['perc_increase'].values\n",
        "    case_diff.loc[case_diff['fips']==row['fips'], 'Y2_adj_increase'] = case_diff_2.loc[case_diff_2['fips'] == row['fips']]['adj_increase'].values\n",
        "\n",
        "case_diff.head()"
      ],
      "execution_count": 0,
      "outputs": []
    },
    {
      "cell_type": "code",
      "metadata": {
        "id": "gD1_IJ4M2QLN",
        "colab_type": "code",
        "colab": {}
      },
      "source": [
        "case_diff['Y3_case_diff'] = float('nan')\n",
        "case_diff['Y3_perc_increase'] = float('nan')\n",
        "case_diff['Y3_adj_increase'] = float('nan')\n",
        "\n",
        "for idx, row in case_diff.iterrows():\n",
        "  # print(case_diff_2.loc[case_diff_2['fips'] == row['fips']]['case_diff'].values)\n",
        "  if len(case_diff_3.loc[case_diff_3['fips'] == row['fips']]['case_diff'].values) > 0:\n",
        "    case_diff.loc[case_diff['fips']==row['fips'], 'Y3_case_diff'] = case_diff_3.loc[case_diff_3['fips'] == row['fips']]['case_diff'].values\n",
        "    case_diff.loc[case_diff['fips']==row['fips'], 'Y3_perc_increase'] = case_diff_3.loc[case_diff_3['fips'] == row['fips']]['perc_increase'].values\n",
        "    case_diff.loc[case_diff['fips']==row['fips'], 'Y3_adj_increase'] = case_diff_3.loc[case_diff_3['fips'] == row['fips']]['adj_increase'].values\n",
        "\n",
        "case_diff.head()"
      ],
      "execution_count": 0,
      "outputs": []
    },
    {
      "cell_type": "code",
      "metadata": {
        "id": "p8vj2_d341E7",
        "colab_type": "code",
        "colab": {}
      },
      "source": [
        "case_diff.to_csv('case_diff_Y_v2.csv')"
      ],
      "execution_count": 0,
      "outputs": []
    },
    {
      "cell_type": "code",
      "metadata": {
        "id": "lryi5q2G5EDk",
        "colab_type": "code",
        "colab": {}
      },
      "source": [
        "from google.colab import files\n",
        "files.download('case_diff_Y_v2.csv')"
      ],
      "execution_count": 0,
      "outputs": []
    },
    {
      "cell_type": "markdown",
      "metadata": {
        "id": "3Of9DxlJ6yux",
        "colab_type": "text"
      },
      "source": [
        "UNACAST DATA AS T"
      ]
    },
    {
      "cell_type": "code",
      "metadata": {
        "id": "jfbNFco65V33",
        "colab_type": "code",
        "colab": {}
      },
      "source": [
        "county_unacast = pd.read_csv('/content/drive/My Drive/COVID19 Data Exploration /Data/county_unacast.csv')\n",
        "county_unacast.head()"
      ],
      "execution_count": 0,
      "outputs": []
    },
    {
      "cell_type": "code",
      "metadata": {
        "id": "2h4hLXnv9MnH",
        "colab_type": "code",
        "colab": {}
      },
      "source": [
        "county_unacast.loc[county_unacast['county_fips']==53061, 'num_grade'].values.mean()\n",
        "print(county_unacast['county_fips'])"
      ],
      "execution_count": 0,
      "outputs": []
    },
    {
      "cell_type": "code",
      "metadata": {
        "id": "Q82P_WC_7NwB",
        "colab_type": "code",
        "colab": {}
      },
      "source": [
        "unacast_T = case_diff[['county', 'state', 'fips', 'population']]\n",
        "unacast_T.head()"
      ],
      "execution_count": 0,
      "outputs": []
    },
    {
      "cell_type": "code",
      "metadata": {
        "id": "7b98Fceq9xoC",
        "colab_type": "code",
        "colab": {}
      },
      "source": [
        "unacast_T['fips']"
      ],
      "execution_count": 0,
      "outputs": []
    },
    {
      "cell_type": "code",
      "metadata": {
        "id": "_Dw0fbZ_8DN7",
        "colab_type": "code",
        "colab": {}
      },
      "source": [
        "unacast_T['unacast_score'] = 0\n",
        "for idx, row in unacast_T.iterrows():\n",
        "  if len(county_unacast.loc[county_unacast['county_fips']==int(row['fips']), 'num_grade'].values) > 0:\n",
        "    unacast_T.loc[unacast_T['fips']==row['fips'], 'unacast_score'] = county_unacast.loc[county_unacast['county_fips']==int(row['fips']), 'num_grade'].values.mean()\n",
        "\n",
        "unacast_T.head()"
      ],
      "execution_count": 0,
      "outputs": []
    },
    {
      "cell_type": "code",
      "metadata": {
        "id": "J5ZFUg7Y8uku",
        "colab_type": "code",
        "colab": {}
      },
      "source": [
        "del unacast_T['population']\n",
        "unacast_T.head()"
      ],
      "execution_count": 0,
      "outputs": []
    },
    {
      "cell_type": "code",
      "metadata": {
        "id": "ZSf08L3d-Aul",
        "colab_type": "code",
        "colab": {}
      },
      "source": [
        "unacast_T.to_csv('unacast_T.csv')\n",
        "files.download('unacast_T.csv')"
      ],
      "execution_count": 0,
      "outputs": []
    },
    {
      "cell_type": "markdown",
      "metadata": {
        "id": "RvSVzZilA3yG",
        "colab_type": "text"
      },
      "source": [
        "Covariates X\n",
        "\n",
        "1. Demographics: population (total), male/female ratio, age distribution (18 classes; group 1 is 0-5, group 2 is 5-10, ...), race distribution (white, black, native american, asian, hispanic, ...)\n",
        "2. Socioeconomics: Income, Education, Poverty\n",
        "3. COVID-19: Current total number of confirmed cases/deaths, tests given, positive/negative test ratio, comorbidities"
      ]
    },
    {
      "cell_type": "code",
      "metadata": {
        "id": "Bb4zOiqi-KCc",
        "colab_type": "code",
        "colab": {}
      },
      "source": [
        "# Demographics: https://www2.census.gov/programs-surveys/popest/technical-documentation/file-layouts/2010-2018/cc-est2018-alldata.pdf\n",
        "#               cc-est2018-alldata.csv\n",
        "\n",
        "demographic = pd.read_csv('/content/drive/My Drive/COVID19 Data Exploration /Data/cc-est2018-alldata.csv', encoding='latin1')\n",
        "demographic.head()"
      ],
      "execution_count": 0,
      "outputs": []
    },
    {
      "cell_type": "code",
      "metadata": {
        "id": "3N5MleDoDb_F",
        "colab_type": "code",
        "colab": {}
      },
      "source": [
        "# Things to note about processing this\n",
        "# FIPS = 1000 * STATE + COUNTY\n",
        "# YEAR: 11 is the most recent (July 2018)\n",
        "# AGEGRP: 0 is total, 1~18 represent different age group\n",
        "# Race: WA (White), BA (Black), IA (American + Alsaka Native), AA (Asian), NA (Native Hawaiian + Pacific Islander), H (Hispanic)\n",
        "\n",
        "# What do we want:\n",
        "# FIPS, TOTAL_MALE (%), TOTAL_FEMALE (%), AGE DISTRIBUTION (1~18, %), RACE DISTRIBUTION (W, B, I, A, N, H in %)\n",
        "\n",
        "# 1) Filter by YEAR = 11\n",
        "recent_demo = demographic.loc[demographic['YEAR']==11]\n",
        "recent_demo"
      ],
      "execution_count": 0,
      "outputs": []
    },
    {
      "cell_type": "code",
      "metadata": {
        "id": "QEBlbl8sFSGB",
        "colab_type": "code",
        "colab": {}
      },
      "source": [
        "# 2) Create a FIPS column\n",
        "recent_demo['fips'] = recent_demo['STATE'] * 1000 + recent_demo['COUNTY']\n",
        "recent_demo['fips'] = recent_demo['fips'].astype(float).astype(int)\n",
        "recent_demo['fips'] = recent_demo.fips.map(\"{:05}\".format)\n",
        "#all_cases_time['fips'] = all_cases_time['fips'].astype(float).astype(int)\n",
        "#all_cases_time['fips'] = all_cases_time.fips.map(\"{:05}\".format)\n",
        "recent_demo.head()"
      ],
      "execution_count": 0,
      "outputs": []
    },
    {
      "cell_type": "code",
      "metadata": {
        "id": "jBeJtsObGZ2w",
        "colab_type": "code",
        "colab": {}
      },
      "source": [
        "# 3) Create a new df with fips, stname, ctyname\n",
        "df = recent_demo[['fips', 'STNAME', 'CTYNAME']].drop_duplicates()\n",
        "df.head()"
      ],
      "execution_count": 0,
      "outputs": []
    },
    {
      "cell_type": "code",
      "metadata": {
        "id": "Rflrt1GCI6EJ",
        "colab_type": "code",
        "colab": {}
      },
      "source": [
        "temp = recent_demo.loc[recent_demo['fips']=='01001']\n",
        "temp.loc[temp['AGEGRP']==0]['TOT_POP'].values[0]"
      ],
      "execution_count": 0,
      "outputs": []
    },
    {
      "cell_type": "code",
      "metadata": {
        "id": "1i35KUvrG-76",
        "colab_type": "code",
        "colab": {}
      },
      "source": [
        "# 4) Add relevant data\n",
        "df['male'] = 0\n",
        "df['female'] = 0\n",
        "\n",
        "for i in range(1, 19, 1):\n",
        "  age_grp = 'age_' + str(i)\n",
        "  df[age_grp] = 0\n",
        "\n",
        "df['white'] = 0\n",
        "df['black'] = 0\n",
        "df['native'] = 0\n",
        "df['pacific'] = 0\n",
        "df['asian'] = 0\n",
        "df['hispanic'] = 0\n",
        "\n",
        "for idx, row in df.iterrows():\n",
        "  fips = row['fips']\n",
        "  demo = recent_demo.loc[recent_demo['fips']==fips]\n",
        "  total_pop = demo.loc[demo['AGEGRP']==0]['TOT_POP'].values[0]\n",
        "  total_male = demo.loc[demo['AGEGRP']==0]['TOT_MALE'].values[0]\n",
        "  total_female = demo.loc[demo['AGEGRP']==0]['TOT_FEMALE'].values[0]\n",
        "\n",
        "  age = []\n",
        "  for i in range(1, 19, 1):\n",
        "    age.append(demo.loc[demo['AGEGRP']==i]['TOT_POP'].values[0])\n",
        "\n",
        "  white = demo.loc[demo['AGEGRP']==0]['WA_MALE'].values[0] + demo.loc[demo['AGEGRP']==0]['WA_FEMALE'].values[0]\n",
        "  black = demo.loc[demo['AGEGRP']==0]['BA_MALE'].values[0] + demo.loc[demo['AGEGRP']==0]['BA_FEMALE'].values[0]\n",
        "  native = demo.loc[demo['AGEGRP']==0]['IA_MALE'].values[0] + demo.loc[demo['AGEGRP']==0]['IA_FEMALE'].values[0]\n",
        "  pacific = demo.loc[demo['AGEGRP']==0]['NA_MALE'].values[0] + demo.loc[demo['AGEGRP']==0]['NA_FEMALE'].values[0]\n",
        "  asian = demo.loc[demo['AGEGRP']==0]['AA_MALE'].values[0] + demo.loc[demo['AGEGRP']==0]['AA_FEMALE'].values[0]\n",
        "  hispanic = demo.loc[demo['AGEGRP']==0]['H_MALE'].values[0] + demo.loc[demo['AGEGRP']==0]['H_FEMALE'].values[0]\n",
        "\n",
        "  df.loc[df['fips']==fips, 'male'] = float(total_male) / float(total_pop)\n",
        "  df.loc[df['fips']==fips, 'female'] = float(total_female) / float(total_pop)\n",
        "\n",
        "  for i in range(1, 19, 1):\n",
        "    agegrp = 'age_' + str(i)\n",
        "    df.loc[df['fips']==fips, agegrp] = float(age[i-1]) / float(total_pop)\n",
        "\n",
        "  df.loc[df['fips']==fips, 'white'] = float(white) / float(total_pop)\n",
        "  df.loc[df['fips']==fips, 'black'] = float(black) / float(total_pop)\n",
        "  df.loc[df['fips']==fips, 'native'] = float(native) / float(total_pop)\n",
        "  df.loc[df['fips']==fips, 'pacific'] = float(pacific) / float(total_pop)\n",
        "  df.loc[df['fips']==fips, 'asian'] = float(asian) / float(total_pop)\n",
        "  df.loc[df['fips']==fips, 'hispanic'] = float(hispanic) / float(total_pop)\n",
        "\n",
        "  # df.head()\n"
      ],
      "execution_count": 0,
      "outputs": []
    },
    {
      "cell_type": "code",
      "metadata": {
        "id": "pZht-51KLwKt",
        "colab_type": "code",
        "colab": {}
      },
      "source": [
        "df['total_pop'] = 0\n",
        "for idx, row in df.iterrows():\n",
        "  fips = row['fips']\n",
        "  demo = recent_demo.loc[recent_demo['fips']==fips]\n",
        "  total_pop = demo.loc[demo['AGEGRP']==0]['TOT_POP'].values[0]\n",
        "  df.loc[df['fips']==fips, 'total_pop'] = total_pop\n",
        "\n",
        "df.head()"
      ],
      "execution_count": 0,
      "outputs": []
    },
    {
      "cell_type": "code",
      "metadata": {
        "id": "wKlqhIF7Mno1",
        "colab_type": "code",
        "colab": {}
      },
      "source": [
        "from google.colab import files\n",
        "df.to_csv('demographics_X.csv')\n",
        "files.download('demographics_X.csv')"
      ],
      "execution_count": 0,
      "outputs": []
    },
    {
      "cell_type": "code",
      "metadata": {
        "id": "a8fhqO6zTrnQ",
        "colab_type": "code",
        "colab": {}
      },
      "source": [
        "df.head()"
      ],
      "execution_count": 0,
      "outputs": []
    },
    {
      "cell_type": "code",
      "metadata": {
        "id": "YVYyQMU6SC-o",
        "colab_type": "code",
        "colab": {}
      },
      "source": [
        ""
      ],
      "execution_count": 0,
      "outputs": []
    },
    {
      "cell_type": "code",
      "metadata": {
        "id": "wX_uE4by3g3S",
        "colab_type": "code",
        "colab": {}
      },
      "source": [
        "edu_df = pd.read_excel('/content/drive/My Drive/COVID19 Data Exploration /Data/Education.xls')\n",
        "poverty_df = pd.read_excel('/content/drive/My Drive/COVID19 Data Exploration /Data/PovertyEstimates.xls')\n",
        "income_df = pd.read_excel('/content/drive/My Drive/COVID19 Data Exploration /Data/Unemployment.xls')"
      ],
      "execution_count": 0,
      "outputs": []
    },
    {
      "cell_type": "code",
      "metadata": {
        "id": "vGijrqiwSHRB",
        "colab_type": "code",
        "colab": {}
      },
      "source": [
        "edu_df = edu_df[4:]\n",
        "edu_df = edu_df[['Educational attainment for adults age 25 and older for the U.S., States, and counties, 1970-2018', 'Unnamed: 43', 'Unnamed: 44', 'Unnamed: 45', 'Unnamed: 46']]\n",
        "# edu_df['Unnamed: 46']\n",
        "edu_df.head()"
      ],
      "execution_count": 0,
      "outputs": []
    },
    {
      "cell_type": "code",
      "metadata": {
        "id": "BWMcJjhUSIdP",
        "colab_type": "code",
        "colab": {}
      },
      "source": [
        "edu_df = edu_df.rename(columns = {'Educational attainment for adults age 25 and older for the U.S., States, and counties, 1970-2018':'FIPS'})\n",
        "edu_df = edu_df.rename(columns = {'Unnamed: 43':'LessHighSchool', 'Unnamed: 44':'OnlyHighSchool', 'Unnamed: 45':'SomeBachelor', 'Unnamed: 46':'Bachelor'})\n",
        "edu_df.head()"
      ],
      "execution_count": 0,
      "outputs": []
    },
    {
      "cell_type": "code",
      "metadata": {
        "id": "QM0MqIxITf1N",
        "colab_type": "code",
        "colab": {}
      },
      "source": [
        "poverty_df = poverty_df[4:]\n",
        "poverty_df = poverty_df[['Poverty estimates for the U.S., States, and counties, 2018', 'Unnamed: 7']]\n",
        "\n",
        "poverty_df.head()"
      ],
      "execution_count": 0,
      "outputs": []
    },
    {
      "cell_type": "code",
      "metadata": {
        "id": "etqzfmkLUIk7",
        "colab_type": "code",
        "colab": {}
      },
      "source": [
        "poverty_df = poverty_df.rename(columns={'Poverty estimates for the U.S., States, and counties, 2018':'FIPS', 'Unnamed: 7':'Poverty'})\n",
        "poverty_df.head()"
      ],
      "execution_count": 0,
      "outputs": []
    },
    {
      "cell_type": "code",
      "metadata": {
        "id": "6ewqX838U_Zs",
        "colab_type": "code",
        "colab": {}
      },
      "source": [
        "income_df = income_df[4:]\n",
        "income_df = income_df[['Unemployment and median household income for the U.S., States, and counties, 2007-18', 'Unnamed: 53', 'Unnamed: 54']]\n",
        "\n",
        "income_df.head()"
      ],
      "execution_count": 0,
      "outputs": []
    },
    {
      "cell_type": "code",
      "metadata": {
        "id": "d3UgsMUtVIe_",
        "colab_type": "code",
        "colab": {}
      },
      "source": [
        "income_df = income_df.rename(columns={'Unemployment and median household income for the U.S., States, and counties, 2007-18':'FIPS', \\\n",
        "                                      'Unnamed: 53':'UnemploymentRate', 'Unnamed: 54':'MedianIncome'})\n",
        "income_df.head()"
      ],
      "execution_count": 0,
      "outputs": []
    },
    {
      "cell_type": "code",
      "metadata": {
        "id": "dUAHukr9VyeU",
        "colab_type": "code",
        "colab": {}
      },
      "source": [
        "df.head()"
      ],
      "execution_count": 0,
      "outputs": []
    },
    {
      "cell_type": "code",
      "metadata": {
        "id": "3FoSNiE2Vug8",
        "colab_type": "code",
        "colab": {}
      },
      "source": [
        "df['Education_LessHighSchool'] = 0\n",
        "df['Education_OnlyHighSchool'] = 0\n",
        "df['Education_SomeBachelor'] = 0\n",
        "df['Education_Bachelor'] = 0\n",
        "\n",
        "df['Poverty'] = 0\n",
        "df['Unemployment'] = 0\n",
        "df['MedianIncome'] = 0\n",
        "\n",
        "for idx, row in df.iterrows():\n",
        "  fips = row['fips']\n",
        "  \n",
        "  edu = edu_df.loc[edu_df['FIPS']==fips]\n",
        "  if len(edu) > 0:\n",
        "    df.loc[df['fips']==fips, 'Education_LessHighSchool'] = float(edu['LessHighSchool'].values[0]) / 100.\n",
        "    df.loc[df['fips']==fips, 'Education_OnlyHighSchool'] = float(edu['OnlyHighSchool'].values[0]) / 100.\n",
        "    df.loc[df['fips']==fips, 'Education_SomeBachelor'] = float(edu['SomeBachelor'].values[0]) / 100.\n",
        "    df.loc[df['fips']==fips, 'Education_Bachelor'] = float(edu['Bachelor'].values[0]) / 100.\n",
        "  \n",
        "  if len(poverty_df.loc[poverty_df['FIPS']==fips]) > 0:\n",
        "    df.loc[df['fips']==fips, 'Poverty'] = float(poverty_df.loc[poverty_df['FIPS']==fips]['Poverty'].values[0]) / float(row['total_pop'])\n",
        "\n",
        "  if len(income_df.loc[income_df['FIPS']==fips]) > 0:\n",
        "    df.loc[df['fips']==fips, 'Unemployment'] = float(income_df.loc[income_df['FIPS']==fips]['UnemploymentRate'].values[0]) / 100. \n",
        "    df.loc[df['fips']==fips, 'MedianIncome'] = income_df.loc[income_df['FIPS']==fips]['MedianIncome'].values[0]\n",
        "\n",
        "df.head()\n",
        "\n"
      ],
      "execution_count": 0,
      "outputs": []
    },
    {
      "cell_type": "code",
      "metadata": {
        "id": "Vlor6ZD7X1rk",
        "colab_type": "code",
        "colab": {}
      },
      "source": [
        "df.to_csv('demographics_socioecon_X.csv')\n",
        "files.download('demographics_socioecon_X.csv')"
      ],
      "execution_count": 0,
      "outputs": []
    },
    {
      "cell_type": "code",
      "metadata": {
        "id": "StdXhz8mY3sL",
        "colab_type": "code",
        "colab": {}
      },
      "source": [
        ""
      ],
      "execution_count": 0,
      "outputs": []
    },
    {
      "cell_type": "markdown",
      "metadata": {
        "id": "Qo-_qeDd5I2k",
        "colab_type": "text"
      },
      "source": [
        "Combining demographics + socioecon + current COVID status + politics"
      ]
    },
    {
      "cell_type": "code",
      "metadata": {
        "id": "eNlBltpj5IVz",
        "colab_type": "code",
        "colab": {}
      },
      "source": [
        "df = pd.read_csv('/content/drive/My Drive/COVID19 Data Exploration /Data/demographics_socioecon_X.csv')\n",
        "del df['Unnamed: 0']\n",
        "df.head()"
      ],
      "execution_count": 0,
      "outputs": []
    },
    {
      "cell_type": "code",
      "metadata": {
        "id": "YlJ2RXrw5w4r",
        "colab_type": "code",
        "colab": {}
      },
      "source": [
        "pop_density_per_county = pd.read_csv('https://raw.githubusercontent.com/COVID19Tracking/associated-data/master/us_census_data/us_census_2018_population_estimates_counties.csv')\n",
        "pop_density_per_county.head()"
      ],
      "execution_count": 0,
      "outputs": []
    },
    {
      "cell_type": "code",
      "metadata": {
        "id": "mhC4mzTQ6EkZ",
        "colab_type": "code",
        "colab": {}
      },
      "source": [
        "state_tests = pd.read_csv('https://raw.githubusercontent.com/COVID19Tracking/covid-tracking-data/master/data/states_daily_4pm_et.csv')\n",
        "state_tests.head()"
      ],
      "execution_count": 0,
      "outputs": []
    },
    {
      "cell_type": "code",
      "metadata": {
        "id": "yC-E1PU_6Le_",
        "colab_type": "code",
        "colab": {}
      },
      "source": [
        "election_data = pd.read_csv('https://raw.githubusercontent.com/tonmcg/US_County_Level_Election_Results_08-16/master/2016_US_County_Level_Presidential_Results.csv')\n",
        "election_data.head()"
      ],
      "execution_count": 0,
      "outputs": []
    },
    {
      "cell_type": "code",
      "metadata": {
        "id": "CobqNvZIBpd4",
        "colab_type": "code",
        "colab": {}
      },
      "source": [
        "election_data.loc[election_data['combined_fips']//1000 == 2]"
      ],
      "execution_count": 0,
      "outputs": []
    },
    {
      "cell_type": "code",
      "metadata": {
        "id": "oorHtxRc7KTq",
        "colab_type": "code",
        "colab": {}
      },
      "source": [
        "df['pop_density'] = 0\n",
        "df['total_test'] = 0\n",
        "df['pos_test_rate'] = 0\n",
        "df['dem_support'] = 0\n",
        "df['gop_support'] = 0\n",
        "\n",
        "for idx, row in df.iterrows():\n",
        "  fips = row['fips']\n",
        "  state_fips = int(fips / 1000)\n",
        "  state_pop = df.loc[df['fips']//1000==state_fips]['total_pop'].values.sum()\n",
        "\n",
        "  if len( pop_density_per_county.loc[pop_density_per_county['geo_id']==fips]) > 0:\n",
        "    df.loc[df['fips']==fips, 'pop_density'] = pop_density_per_county.loc[pop_density_per_county['geo_id']==fips]['pop_density'].values[0]\n",
        "\n",
        "  if len(state_tests.loc[state_tests['fips']==state_fips]) > 0:\n",
        "    pos_test = state_tests.loc[state_tests['fips']==state_fips]['positive'].values[0]\n",
        "    neg_test = state_tests.loc[state_tests['fips']==state_fips]['negative'].values[0]\n",
        "    df.loc[df['fips']==fips, 'total_test'] = (float(pos_test) + float(neg_test)) / float(state_pop)\n",
        "    df.loc[df['fips']==fips, 'pos_test_rate'] = float(pos_test) / (float(pos_test) + float(neg_test))\n",
        "  # print(fips)\n",
        "  if len(election_data.loc[election_data['combined_fips']==fips]) > 0:\n",
        "    df.loc[df['fips']==fips, 'dem_support'] = election_data.loc[election_data['combined_fips']==fips]['per_dem'].values[0]\n",
        "    df.loc[df['fips']==fips, 'gop_support'] = election_data.loc[election_data['combined_fips']==fips]['per_gop'].values[0]\n",
        "\n",
        "df.head()"
      ],
      "execution_count": 0,
      "outputs": []
    },
    {
      "cell_type": "code",
      "metadata": {
        "id": "BG6GZgZ2Gh7K",
        "colab_type": "code",
        "colab": {}
      },
      "source": [
        "# Now, add covid related data\n",
        "# 1) total case until March 28 (a week before Apr 4)\n",
        "# 2) increase during March 23-28\n",
        "\n",
        "START_DATE = '2020-03-25'\n",
        "END_DATE = '2020-04-01'\n",
        "case_diff_X = get_difference_df(all_cases_time, START_DATE, END_DATE)\n",
        "case_diff_X.head()"
      ],
      "execution_count": 0,
      "outputs": []
    },
    {
      "cell_type": "code",
      "metadata": {
        "id": "sNzURmjGKq5J",
        "colab_type": "code",
        "colab": {}
      },
      "source": [
        "df['fips'] = df['fips'].astype(float).astype(int)\n",
        "df['fips'] = df.fips.map(\"{:05}\".format)"
      ],
      "execution_count": 0,
      "outputs": []
    },
    {
      "cell_type": "code",
      "metadata": {
        "id": "Xuc19C0_LuCB",
        "colab_type": "code",
        "colab": {}
      },
      "source": [
        "data_from_end = all_cases_time['2020-04-01']"
      ],
      "execution_count": 0,
      "outputs": []
    },
    {
      "cell_type": "code",
      "metadata": {
        "id": "otUj2jyiJB01",
        "colab_type": "code",
        "colab": {}
      },
      "source": [
        "df['cases'] = 0\n",
        "df['deaths'] = 0\n",
        "df['perc_increase'] = 0\n",
        "df['adj_increase'] = 0\n",
        "\n",
        "for idx, row in df.iterrows():\n",
        "  if len(data_from_end.loc[data_from_end['fips']==row['fips']]) > 0:\n",
        "    df.loc[df['fips']==row['fips'], 'cases'] = data_from_end.loc[data_from_end['fips']==row['fips']]['cases'].values[0]\n",
        "    df.loc[df['fips']==row['fips'], 'deaths'] = data_from_end.loc[data_from_end['fips']==row['fips']]['deaths'].values[0]\n",
        "  if len(case_diff_X.loc[case_diff_X['fips']==row['fips']]) > 0:\n",
        "    df.loc[df['fips']==row['fips'], 'perc_increase'] = case_diff_X.loc[case_diff_X['fips']==row['fips']]['perc_increase'].values[0]\n",
        "    df.loc[df['fips']==row['fips'], 'adj_increase'] = case_diff_X.loc[case_diff_X['fips']==row['fips']]['adj_increase'].values[0]"
      ],
      "execution_count": 0,
      "outputs": []
    },
    {
      "cell_type": "code",
      "metadata": {
        "id": "xYLihnlaKVeE",
        "colab_type": "code",
        "colab": {}
      },
      "source": [
        "df.head(30)"
      ],
      "execution_count": 0,
      "outputs": []
    },
    {
      "cell_type": "code",
      "metadata": {
        "id": "DhvBiBGpATXx",
        "colab_type": "code",
        "colab": {}
      },
      "source": [
        "from google.colab import files\n",
        "df.to_csv('all_X_ver2.csv')\n",
        "files.download('all_X_ver2.csv')"
      ],
      "execution_count": 0,
      "outputs": []
    },
    {
      "cell_type": "code",
      "metadata": {
        "id": "iPaoDTk76zOV",
        "colab_type": "code",
        "colab": {}
      },
      "source": [
        ""
      ],
      "execution_count": 0,
      "outputs": []
    }
  ]
}